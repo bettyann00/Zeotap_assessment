{
 "cells": [
  {
   "cell_type": "markdown",
   "id": "bd6071af-4d46-4999-af99-00f92387a37a",
   "metadata": {},
   "source": [
    "**Task 2: Lookalike Model**"
   ]
  },
  {
   "cell_type": "code",
   "execution_count": 4,
   "id": "625e4e2a-4562-4f7b-b445-041e378a7147",
   "metadata": {},
   "outputs": [],
   "source": [
    "import pandas as pd"
   ]
  },
  {
   "cell_type": "code",
   "execution_count": 5,
   "id": "97de1ce2-ecbf-4e96-8766-7d2a2e9f79f7",
   "metadata": {},
   "outputs": [],
   "source": [
    "#load datasets\n",
    "customers = pd.read_csv(\"C:/Users/91949/Downloads/Customers - Customers.csv\")\n",
    "products = pd.read_csv(\"C:/Users/91949/Downloads/Products.csv\")\n",
    "transactions = pd.read_csv(\"C:/Users/91949/Downloads/Transactions - Transactions.csv\")"
   ]
  },
  {
   "cell_type": "code",
   "execution_count": 2,
   "id": "c86c4763-80c6-4de0-87f2-d375fefc5159",
   "metadata": {},
   "outputs": [],
   "source": [
    "from sklearn.metrics.pairwise import cosine_similarity\n",
    "from sklearn.preprocessing import StandardScaler"
   ]
  },
  {
   "cell_type": "code",
   "execution_count": 7,
   "id": "3c856ec7-de8c-4e1d-9013-e5f7dcb584cb",
   "metadata": {},
   "outputs": [],
   "source": [
    "#changing datatypes\n",
    "customers['SignupDate'] = pd.to_datetime(customers['SignupDate'])\n",
    "transactions['TransactionDate'] = pd.to_datetime(transactions['TransactionDate'])"
   ]
  },
  {
   "cell_type": "code",
   "execution_count": 8,
   "id": "78934835-7739-476d-bec0-b25aef4caf4d",
   "metadata": {},
   "outputs": [],
   "source": [
    "#merging datasets\n",
    "merged_data = transactions.merge(customers, on='CustomerID').merge(products, on='ProductID')"
   ]
  },
  {
   "cell_type": "code",
   "execution_count": 10,
   "id": "c766b37c-5de3-4e9e-bd70-a49f78ef9765",
   "metadata": {},
   "outputs": [
    {
     "name": "stdout",
     "output_type": "stream",
     "text": [
      "<class 'pandas.core.frame.DataFrame'>\n",
      "RangeIndex: 1000 entries, 0 to 999\n",
      "Data columns (total 13 columns):\n",
      " #   Column           Non-Null Count  Dtype         \n",
      "---  ------           --------------  -----         \n",
      " 0   TransactionID    1000 non-null   object        \n",
      " 1   CustomerID       1000 non-null   object        \n",
      " 2   ProductID        1000 non-null   object        \n",
      " 3   TransactionDate  1000 non-null   datetime64[ns]\n",
      " 4   Quantity         1000 non-null   int64         \n",
      " 5   TotalValue       1000 non-null   float64       \n",
      " 6   Price_x          1000 non-null   float64       \n",
      " 7   CustomerName     1000 non-null   object        \n",
      " 8   Region           1000 non-null   object        \n",
      " 9   SignupDate       1000 non-null   datetime64[ns]\n",
      " 10  ProductName      1000 non-null   object        \n",
      " 11  Category         1000 non-null   object        \n",
      " 12  Price_y          1000 non-null   float64       \n",
      "dtypes: datetime64[ns](2), float64(3), int64(1), object(7)\n",
      "memory usage: 101.7+ KB\n"
     ]
    }
   ],
   "source": [
    "merged_data.info()"
   ]
  },
  {
   "cell_type": "code",
   "execution_count": 11,
   "id": "047fdd48-cb4d-45d4-965f-37bb031506fa",
   "metadata": {},
   "outputs": [],
   "source": [
    "#feature engineering\n",
    "customer_features = merged_data.groupby('CustomerID').agg({\n",
    "    'TotalValue': 'sum',\n",
    "    'Quantity': 'sum',\n",
    "    'Price_x': 'mean'\n",
    "}).reset_index()"
   ]
  },
  {
   "cell_type": "code",
   "execution_count": 12,
   "id": "86240947-43b8-41e8-821b-fe730bb1e1ee",
   "metadata": {},
   "outputs": [],
   "source": [
    "#scaling features\n",
    "scaler = StandardScaler()\n",
    "scaled_features = scaler.fit_transform(customer_features.iloc[:, 1:])"
   ]
  },
  {
   "cell_type": "code",
   "execution_count": 15,
   "id": "308f6bdd-40e7-4cb1-ae47-69c8a9b3d664",
   "metadata": {},
   "outputs": [],
   "source": [
    "#similarity calculation\n",
    "similarity_matrix = cosine_similarity(scaled_features)"
   ]
  },
  {
   "cell_type": "code",
   "execution_count": 17,
   "id": "f98c4e89-6422-4d05-92a1-76c33381cb90",
   "metadata": {},
   "outputs": [],
   "source": [
    "import numpy as np"
   ]
  },
  {
   "cell_type": "code",
   "execution_count": 18,
   "id": "2b999fcd-6584-4e8a-8af5-b8aa901f9b13",
   "metadata": {},
   "outputs": [],
   "source": [
    "#recommendations for first 20 customers\n",
    "lookalikes = {}\n",
    "for i in range(20):\n",
    "    similar_customers = np.argsort(-similarity_matrix[i])[1:4]\n",
    "    lookalikes[customer_features.iloc[i]['CustomerID']] = [\n",
    "        (customer_features.iloc[j]['CustomerID'], similarity_matrix[i, j]) for j in similar_customers\n",
    "    ]\n",
    "\n",
    "#save recommendations\n",
    "lookalike_df = pd.DataFrame.from_dict(lookalikes, orient='index', columns=['Similar1', 'Similar2', 'Similar3'])\n",
    "lookalike_df.to_csv('Lookalike.csv')"
   ]
  },
  {
   "cell_type": "code",
   "execution_count": 20,
   "id": "760ad531-546a-4cd8-b74e-662ad206f5a2",
   "metadata": {},
   "outputs": [
    {
     "data": {
      "text/html": [
       "<a href='Lookalike.csv' target='_blank'>Lookalike.csv</a><br>"
      ],
      "text/plain": [
       "C:\\Users\\91949\\Lookalike.csv"
      ]
     },
     "metadata": {},
     "output_type": "display_data"
    }
   ],
   "source": [
    "from IPython.display import FileLink\n",
    "\n",
    "#generate a download link for the file\n",
    "display(FileLink('Lookalike.csv'))"
   ]
  }
 ],
 "metadata": {
  "kernelspec": {
   "display_name": "Python 3 (ipykernel)",
   "language": "python",
   "name": "python3"
  },
  "language_info": {
   "codemirror_mode": {
    "name": "ipython",
    "version": 3
   },
   "file_extension": ".py",
   "mimetype": "text/x-python",
   "name": "python",
   "nbconvert_exporter": "python",
   "pygments_lexer": "ipython3",
   "version": "3.10.9"
  }
 },
 "nbformat": 4,
 "nbformat_minor": 5
}
